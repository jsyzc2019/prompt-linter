{
 "cells": [
  {
   "cell_type": "markdown",
   "id": "5706bbe6",
   "metadata": {},
   "source": [
    "# Objectives\n",
    "\n",
    "1. **Search for candidate repos** (containing prompts in .py/.txt files) using:\n",
    "    - LangChain\n",
    "    - Guidance (by Microsoft)\n",
    "    - LlamaIndex\n",
    "2. **Find Prompts**:\n",
    "    - 2.1. Filter down via dirs and files\n",
    "        - Look at dirs for 'template' or 'prompt' folders (or files)\n",
    "    - 2.2. Filter down via code search *(hint: use tree-sitter)*:    \n",
    "        - imports some library like openai, hugginface, etc.\n",
    "        - (are they in files? Strings?\n",
    "        - How many use variables?\n",
    "        - Do they concat, use f-strings, use format? Etc.)\n",
    "3. Run professor's **sslim check tool** on them\n",
    "\n",
    "Professor's tool: https://github.com/kpister/sllim (semantic analysis to detect errors in prompt files)"
   ]
  },
  {
   "cell_type": "markdown",
   "metadata": {},
   "source": [
    "### 📚 **Candidate Repos**"
   ]
  },
  {
   "cell_type": "code",
   "execution_count": 1,
   "id": "cda62de4",
   "metadata": {},
   "outputs": [],
   "source": [
    "import requests, json\n",
    "from pprint import pprint\n",
    "\n",
    "def fetch_data(query=\"langchain+OR+GUIDANCE+OR+LlamaIndex\", sort=\"stars\", order=\"asc\", per_page=100, language=\"python\"):\n",
    "    \"\"\"\n",
    "    # GitHub API URL for searching repositories\n",
    "    # DOCS: https://docs.github.com/en/rest/search/search?apiVersion=2022-11-28#search-repositories\n",
    "\n",
    "    # Params Default\n",
    "    query = \"langchain+OR+GUIDANCE+OR+LlamaIndex\"\n",
    "    sort = \"stars\"\n",
    "    order = \"asc\"\n",
    "    per_page = 100  # Max 100\n",
    "    language = \"python\"\n",
    "\n",
    "    Returns a results dict with the following structure:\n",
    "    {\n",
    "        total_count: int,\n",
    "        items: [{repo1_info}, {repo2_info}, ...]\n",
    "    }\n",
    "    \"\"\"\n",
    "    # Setting up result dict and file\n",
    "    result = {\"total_count\": 0, \"items\": []}\n",
    "    \n",
    "    # NOTE: Only the first 1000 search results are available through this API\n",
    "    print(\"Fetching all 10 pages (assuming there're >= 1000 results)\")\n",
    "    for page in range(1, 11):\n",
    "        url = f\"https://api.github.com/search/repositories?q={query}+language:{language}&sort={sort}&order={order}&per_page={per_page}&page={page}\"\n",
    "        # Make the API request and get the JSON response\n",
    "        response = requests.get(url)\n",
    "        data = response.json()\n",
    "\n",
    "        # Check if the request was successful\n",
    "        if response.status_code != 200:\n",
    "            raise Exception(data.get(\"message\", \"Unknown error\"))\n",
    "\n",
    "        # Check if the API returned an error\n",
    "        if \"message\" in data:\n",
    "            raise Exception(data[\"message\"])\n",
    "        \n",
    "        # Add the results to the result list and file\n",
    "        result[\"items\"].extend(data[\"items\"])\n",
    "        print(f\"Page {page} done\")\n",
    "\n",
    "    # Add the total count to the result\n",
    "    result[\"total_count\"] = data[\"total_count\"]\n",
    "\n",
    "    return result\n",
    "\n",
    "# WARNING: AVOID EXCEEDING THE API rate limit. \n",
    "# STORING RESULT (Uncomment when needed)\n",
    "##################################################\n",
    "# repos = fetch_data()\n",
    "# with open(\"repos.json\", \"w\") as file:\n",
    "#     json.dump(repos, file, indent=4)\n",
    "# pprint(repos)"
   ]
  },
  {
   "cell_type": "markdown",
   "metadata": {},
   "source": [
    "### 🔎 **Find Prompts**"
   ]
  },
  {
   "cell_type": "code",
   "execution_count": 36,
   "metadata": {},
   "outputs": [
    {
     "name": "stdout",
     "output_type": "stream",
     "text": [
      "Error: API rate limit exceeded for user ID 29519306. If you reach out to GitHub Support for help, please include the request ID E42E:778B:112B6B7:232E396:6544A03B.\n",
      "Error: API rate limit exceeded for user ID 29519306. If you reach out to GitHub Support for help, please include the request ID E418:3CCE:11079BB:22E4DAD:6544A078.\n"
     ]
    },
    {
     "ename": "KeyboardInterrupt",
     "evalue": "",
     "output_type": "error",
     "traceback": [
      "\u001b[0;31m---------------------------------------------------------------------------\u001b[0m",
      "\u001b[0;31mException\u001b[0m                                 Traceback (most recent call last)",
      "\u001b[1;32m/home/dpaul/prompt-linter/data/repos.ipynb Cell 5\u001b[0m line \u001b[0;36m4\n\u001b[1;32m     <a href='vscode-notebook-cell://wsl%2Bubuntu/home/dpaul/prompt-linter/data/repos.ipynb#W4sdnNjb2RlLXJlbW90ZQ%3D%3D?line=43'>44</a>\u001b[0m \u001b[39mtry\u001b[39;00m:\n\u001b[0;32m---> <a href='vscode-notebook-cell://wsl%2Bubuntu/home/dpaul/prompt-linter/data/repos.ipynb#W4sdnNjb2RlLXJlbW90ZQ%3D%3D?line=44'>45</a>\u001b[0m     repos_prompts[repo_name] \u001b[39m=\u001b[39m search_repo(repo_name, username, api_key)\n\u001b[1;32m     <a href='vscode-notebook-cell://wsl%2Bubuntu/home/dpaul/prompt-linter/data/repos.ipynb#W4sdnNjb2RlLXJlbW90ZQ%3D%3D?line=45'>46</a>\u001b[0m \u001b[39mexcept\u001b[39;00m \u001b[39mException\u001b[39;00m \u001b[39mas\u001b[39;00m e:\n",
      "\u001b[1;32m/home/dpaul/prompt-linter/data/repos.ipynb Cell 5\u001b[0m line \u001b[0;36m2\n\u001b[1;32m     <a href='vscode-notebook-cell://wsl%2Bubuntu/home/dpaul/prompt-linter/data/repos.ipynb#W4sdnNjb2RlLXJlbW90ZQ%3D%3D?line=20'>21</a>\u001b[0m \u001b[39mif\u001b[39;00m response\u001b[39m.\u001b[39mstatus_code \u001b[39m!=\u001b[39m \u001b[39m200\u001b[39m:\n\u001b[0;32m---> <a href='vscode-notebook-cell://wsl%2Bubuntu/home/dpaul/prompt-linter/data/repos.ipynb#W4sdnNjb2RlLXJlbW90ZQ%3D%3D?line=21'>22</a>\u001b[0m     \u001b[39mraise\u001b[39;00m \u001b[39mException\u001b[39;00m(data\u001b[39m.\u001b[39mget(\u001b[39m\"\u001b[39m\u001b[39mmessage\u001b[39m\u001b[39m\"\u001b[39m, \u001b[39m\"\u001b[39m\u001b[39mUnknown error\u001b[39m\u001b[39m\"\u001b[39m))\n\u001b[1;32m     <a href='vscode-notebook-cell://wsl%2Bubuntu/home/dpaul/prompt-linter/data/repos.ipynb#W4sdnNjb2RlLXJlbW90ZQ%3D%3D?line=23'>24</a>\u001b[0m \u001b[39m# Check if the API returned an error\u001b[39;00m\n",
      "\u001b[0;31mException\u001b[0m: API rate limit exceeded for user ID 29519306. If you reach out to GitHub Support for help, please include the request ID E418:3CCE:11079BB:22E4DAD:6544A078.",
      "\nDuring handling of the above exception, another exception occurred:\n",
      "\u001b[0;31mKeyboardInterrupt\u001b[0m                         Traceback (most recent call last)",
      "\u001b[1;32m/home/dpaul/prompt-linter/data/repos.ipynb Cell 5\u001b[0m line \u001b[0;36m6\n\u001b[1;32m     <a href='vscode-notebook-cell://wsl%2Bubuntu/home/dpaul/prompt-linter/data/repos.ipynb#W4sdnNjb2RlLXJlbW90ZQ%3D%3D?line=56'>57</a>\u001b[0m \u001b[39mwith\u001b[39;00m \u001b[39mopen\u001b[39m(\u001b[39m\"\u001b[39m\u001b[39mrepos.json\u001b[39m\u001b[39m\"\u001b[39m, \u001b[39m\"\u001b[39m\u001b[39mr\u001b[39m\u001b[39m\"\u001b[39m) \u001b[39mas\u001b[39;00m file:\n\u001b[1;32m     <a href='vscode-notebook-cell://wsl%2Bubuntu/home/dpaul/prompt-linter/data/repos.ipynb#W4sdnNjb2RlLXJlbW90ZQ%3D%3D?line=57'>58</a>\u001b[0m     repos \u001b[39m=\u001b[39m json\u001b[39m.\u001b[39mload(file)\n\u001b[0;32m---> <a href='vscode-notebook-cell://wsl%2Bubuntu/home/dpaul/prompt-linter/data/repos.ipynb#W4sdnNjb2RlLXJlbW90ZQ%3D%3D?line=59'>60</a>\u001b[0m repos_prompts \u001b[39m=\u001b[39m search_all_repos(repos)\n\u001b[1;32m     <a href='vscode-notebook-cell://wsl%2Bubuntu/home/dpaul/prompt-linter/data/repos.ipynb#W4sdnNjb2RlLXJlbW90ZQ%3D%3D?line=60'>61</a>\u001b[0m \u001b[39mwith\u001b[39;00m \u001b[39mopen\u001b[39m(\u001b[39m\"\u001b[39m\u001b[39mrepos_prompts.json\u001b[39m\u001b[39m\"\u001b[39m, \u001b[39m\"\u001b[39m\u001b[39mw\u001b[39m\u001b[39m\"\u001b[39m) \u001b[39mas\u001b[39;00m file:\n\u001b[1;32m     <a href='vscode-notebook-cell://wsl%2Bubuntu/home/dpaul/prompt-linter/data/repos.ipynb#W4sdnNjb2RlLXJlbW90ZQ%3D%3D?line=61'>62</a>\u001b[0m     json\u001b[39m.\u001b[39mdump(repos_prompts, file, indent\u001b[39m=\u001b[39m\u001b[39m4\u001b[39m)\n",
      "\u001b[1;32m/home/dpaul/prompt-linter/data/repos.ipynb Cell 5\u001b[0m line \u001b[0;36m4\n\u001b[1;32m     <a href='vscode-notebook-cell://wsl%2Bubuntu/home/dpaul/prompt-linter/data/repos.ipynb#W4sdnNjb2RlLXJlbW90ZQ%3D%3D?line=46'>47</a>\u001b[0m         \u001b[39mprint\u001b[39m(\u001b[39mf\u001b[39m\u001b[39m\"\u001b[39m\u001b[39mError: \u001b[39m\u001b[39m{\u001b[39;00me\u001b[39m}\u001b[39;00m\u001b[39m\"\u001b[39m)\n\u001b[1;32m     <a href='vscode-notebook-cell://wsl%2Bubuntu/home/dpaul/prompt-linter/data/repos.ipynb#W4sdnNjb2RlLXJlbW90ZQ%3D%3D?line=47'>48</a>\u001b[0m         \u001b[39m# Assuming the exception is due to rate limit, wait for 1 minute and try again\u001b[39;00m\n\u001b[0;32m---> <a href='vscode-notebook-cell://wsl%2Bubuntu/home/dpaul/prompt-linter/data/repos.ipynb#W4sdnNjb2RlLXJlbW90ZQ%3D%3D?line=48'>49</a>\u001b[0m         time\u001b[39m.\u001b[39;49msleep(\u001b[39m60\u001b[39;49m)\n\u001b[1;32m     <a href='vscode-notebook-cell://wsl%2Bubuntu/home/dpaul/prompt-linter/data/repos.ipynb#W4sdnNjb2RlLXJlbW90ZQ%3D%3D?line=49'>50</a>\u001b[0m         repos_prompts[repo_name] \u001b[39m=\u001b[39m search_repo(repo_name, username, api_key)\n\u001b[1;32m     <a href='vscode-notebook-cell://wsl%2Bubuntu/home/dpaul/prompt-linter/data/repos.ipynb#W4sdnNjb2RlLXJlbW90ZQ%3D%3D?line=51'>52</a>\u001b[0m \u001b[39mreturn\u001b[39;00m repos_prompts\n",
      "\u001b[0;31mKeyboardInterrupt\u001b[0m: "
     ]
    }
   ],
   "source": [
    "from utils import get_api_key_github  # custom function for privacy. Get your own API key from\n",
    "import time\n",
    "\n",
    "def search_repo(repo_name, username=\"DJPAUL2001\", api_key=get_api_key_github()):\n",
    "    \"\"\"\n",
    "    Searches a repo for promp or template file. HELPER FUNCTION for search_all_repos()\n",
    "    Github API URL: https://docs.github.com/en/rest/search/search?apiVersion=2022-11-28#search-code\n",
    "\n",
    "    When searching for code, you can get text match metadata for the file content and file path fields when you pass \n",
    "    the text-match media type. For more details about how to receive highlighted search results\n",
    "\n",
    "    Note: The \"Search code\" endpoint requires you to authenticate and limits you to 10 requests per minute\n",
    "\n",
    "    Returns a list of files. e.g. [{file1_info}, {file2_info}, ...]\n",
    "    \"\"\"\n",
    "    url = f\"https://api.github.com/search/code?q=prompt+OR+template+in:file+language:python+repo:{repo_name}\"\n",
    "    response = requests.get(url, auth=(username, api_key))\n",
    "    data = response.json()\n",
    "\n",
    "    # Check if the request was successful\n",
    "    if response.status_code != 200:\n",
    "        raise Exception(data.get(\"message\", \"Unknown error\"))\n",
    "    \n",
    "    # Check if the API returned an error\n",
    "    if \"message\" in data:\n",
    "        raise Exception(data[\"message\"])\n",
    "    \n",
    "    return data[\"items\"]\n",
    "\n",
    "def search_all_repos(repos, username=\"DJPAUL2001\", api_key=get_api_key_github()):\n",
    "    \"\"\"\n",
    "    Running search_repo() on all candidate repos in repos.json. Approx runtime: 1 hr 40 mins\n",
    "\n",
    "    Returns a dict with the following structure:\n",
    "    {\n",
    "        repo_name1: [{file1_info}, {file2_info}, ...],\n",
    "        repo_name2: [{file1_info}, {file2_info}, ...],\n",
    "        ...\n",
    "    }\n",
    "    \"\"\"\n",
    "    repos_prompts = {}\n",
    "    for repo in repos[\"items\"]:\n",
    "        repo_name = repo[\"full_name\"]\n",
    "        try:\n",
    "            repos_prompts[repo_name] = search_repo(repo_name, username, api_key)\n",
    "        except Exception as e:\n",
    "            print(f\"Error: {e}\")\n",
    "            # Assuming the exception is due to rate limit, wait for 1 minute and try again\n",
    "            time.sleep(60)\n",
    "            repos_prompts[repo_name] = search_repo(repo_name, username, api_key)\n",
    "\n",
    "    return repos_prompts\n",
    "\n",
    "# STORING RESULT (Uncomment when needed)\n",
    "##################################################\n",
    "# # Loading repos.json to memory\n",
    "# with open(\"repos.json\", \"r\") as file:\n",
    "#     repos = json.load(file)\n",
    "\n",
    "# repos_prompts = search_all_repos(repos)\n",
    "# with open(\"repos_prompts.json\", \"w\") as file:\n",
    "#     json.dump(repos_prompts, file, indent=4)\n",
    "# pprint(repos_prompts)"
   ]
  },
  {
   "cell_type": "code",
   "execution_count": null,
   "metadata": {},
   "outputs": [],
   "source": [
    "# TESTING, TODO: REMOVE LATER\n",
    "with open(\"repos_prompts.json\", \"r\") as file:\n",
    "    repos_prompts = json.load(file)\n",
    "\n",
    "len(repos_prompts)"
   ]
  },
  {
   "cell_type": "markdown",
   "metadata": {},
   "source": [
    "The Following is the setup for tree-sitter!"
   ]
  },
  {
   "cell_type": "code",
   "execution_count": null,
   "metadata": {},
   "outputs": [],
   "source": [
    "# NOTE: To get raw file content: \n",
    "# 1. grab the html_url of a code_search item\n",
    "# 2. remove blob/\n",
    "# 3. replace with github.com with raw.githubusercontent.com\n",
    "\n",
    "res = requests.get('https://raw.githubusercontent.com/langchain-ai/langchain/98aff29fbda6bcb99ea6af0cfd1532954b504bdc/libs/langchain/langchain/schema/prompt_template.py')\n",
    "print(res.text)"
   ]
  },
  {
   "cell_type": "markdown",
   "metadata": {},
   "source": [
    "### **🧪 Check the prompts using SSLIM**\n"
   ]
  },
  {
   "cell_type": "code",
   "execution_count": null,
   "metadata": {},
   "outputs": [],
   "source": []
  }
 ],
 "metadata": {
  "kernelspec": {
   "display_name": "Python 3 (ipykernel)",
   "language": "python",
   "name": "python3"
  },
  "language_info": {
   "codemirror_mode": {
    "name": "ipython",
    "version": 3
   },
   "file_extension": ".py",
   "mimetype": "text/x-python",
   "name": "python",
   "nbconvert_exporter": "python",
   "pygments_lexer": "ipython3",
   "version": "3.10.12"
  }
 },
 "nbformat": 4,
 "nbformat_minor": 5
}

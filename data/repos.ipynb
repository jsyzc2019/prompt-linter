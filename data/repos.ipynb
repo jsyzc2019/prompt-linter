{
 "cells": [
  {
   "cell_type": "markdown",
   "id": "5706bbe6",
   "metadata": {},
   "source": [
    "# Objectives\n",
    "\n",
    "1. **Search for candidate repos** (containing prompts in .py/.txt files) using:\n",
    "    - LangChain\n",
    "    - Guidance (by Microsoft)\n",
    "    - LlamaIndex\n",
    "2. **Find Prompts**:\n",
    "    - 2.1. Filter down via dirs and files\n",
    "        - Look at dirs for 'template' or 'prompt' folders (or files)\n",
    "    - 2.2. Filter down via code search *(hint: use tree-sitter)*:    \n",
    "        - imports some library like openai, hugginface, etc.\n",
    "        - (are they in files? Strings?\n",
    "        - How many use variables?\n",
    "        - Do they concat, use f-strings, use format? Etc.)\n",
    "3. Run professor's **sslim check tool** on them\n",
    "\n",
    "Professor's tool: https://github.com/kpister/sllim (semantic analysis to detect errors in prompt files)"
   ]
  },
  {
   "cell_type": "markdown",
   "metadata": {},
   "source": [
    "### 📚 Candidate Repos"
   ]
  },
  {
   "cell_type": "code",
   "execution_count": 111,
   "id": "cda62de4",
   "metadata": {},
   "outputs": [
    {
     "name": "stdout",
     "output_type": "stream",
     "text": [
      "Fetching all 10 pages (assuming there're >= 1000 results)\n",
      "https://api.github.com/search/repositories?q=langchain+OR+GUIDANCE+OR+LlamaIndex+language:python&sort=stars&order=asc&per_page=100&page=1\n",
      "Page 1 done\n",
      "https://api.github.com/search/repositories?q=langchain+OR+GUIDANCE+OR+LlamaIndex+language:python&sort=stars&order=asc&per_page=100&page=2\n",
      "Page 2 done\n",
      "https://api.github.com/search/repositories?q=langchain+OR+GUIDANCE+OR+LlamaIndex+language:python&sort=stars&order=asc&per_page=100&page=3\n",
      "Page 3 done\n",
      "https://api.github.com/search/repositories?q=langchain+OR+GUIDANCE+OR+LlamaIndex+language:python&sort=stars&order=asc&per_page=100&page=4\n",
      "Page 4 done\n",
      "https://api.github.com/search/repositories?q=langchain+OR+GUIDANCE+OR+LlamaIndex+language:python&sort=stars&order=asc&per_page=100&page=5\n",
      "Page 5 done\n",
      "https://api.github.com/search/repositories?q=langchain+OR+GUIDANCE+OR+LlamaIndex+language:python&sort=stars&order=asc&per_page=100&page=6\n",
      "Page 6 done\n",
      "https://api.github.com/search/repositories?q=langchain+OR+GUIDANCE+OR+LlamaIndex+language:python&sort=stars&order=asc&per_page=100&page=7\n",
      "Page 7 done\n",
      "https://api.github.com/search/repositories?q=langchain+OR+GUIDANCE+OR+LlamaIndex+language:python&sort=stars&order=asc&per_page=100&page=8\n",
      "Page 8 done\n",
      "https://api.github.com/search/repositories?q=langchain+OR+GUIDANCE+OR+LlamaIndex+language:python&sort=stars&order=asc&per_page=100&page=9\n",
      "Page 9 done\n",
      "https://api.github.com/search/repositories?q=langchain+OR+GUIDANCE+OR+LlamaIndex+language:python&sort=stars&order=asc&per_page=100&page=10\n"
     ]
    },
    {
     "ename": "Exception",
     "evalue": "API rate limit exceeded for 50.93.222.44. (But here's the good news: Authenticated requests get a higher rate limit. Check out the documentation for more details.)",
     "output_type": "error",
     "traceback": [
      "\u001b[0;31m---------------------------------------------------------------------------\u001b[0m",
      "\u001b[0;31mException\u001b[0m                                 Traceback (most recent call last)",
      "\u001b[1;32m/home/dpaul/prompt-linter/data/repos.ipynb Cell 3\u001b[0m line \u001b[0;36m5\n\u001b[1;32m     <a href='vscode-notebook-cell://wsl%2Bubuntu/home/dpaul/prompt-linter/data/repos.ipynb#W2sdnNjb2RlLXJlbW90ZQ%3D%3D?line=48'>49</a>\u001b[0m     \u001b[39mreturn\u001b[39;00m result\n\u001b[1;32m     <a href='vscode-notebook-cell://wsl%2Bubuntu/home/dpaul/prompt-linter/data/repos.ipynb#W2sdnNjb2RlLXJlbW90ZQ%3D%3D?line=50'>51</a>\u001b[0m \u001b[39m# WARNING:  AVOID EXCEEDING THE API rate limit. \u001b[39;00m\n\u001b[1;32m     <a href='vscode-notebook-cell://wsl%2Bubuntu/home/dpaul/prompt-linter/data/repos.ipynb#W2sdnNjb2RlLXJlbW90ZQ%3D%3D?line=51'>52</a>\u001b[0m \u001b[39m# STORING RESULT\u001b[39;00m\n\u001b[1;32m     <a href='vscode-notebook-cell://wsl%2Bubuntu/home/dpaul/prompt-linter/data/repos.ipynb#W2sdnNjb2RlLXJlbW90ZQ%3D%3D?line=52'>53</a>\u001b[0m \u001b[39m##################################################\u001b[39;00m\n\u001b[0;32m---> <a href='vscode-notebook-cell://wsl%2Bubuntu/home/dpaul/prompt-linter/data/repos.ipynb#W2sdnNjb2RlLXJlbW90ZQ%3D%3D?line=53'>54</a>\u001b[0m res \u001b[39m=\u001b[39m fetch_data()\n\u001b[1;32m     <a href='vscode-notebook-cell://wsl%2Bubuntu/home/dpaul/prompt-linter/data/repos.ipynb#W2sdnNjb2RlLXJlbW90ZQ%3D%3D?line=54'>55</a>\u001b[0m \u001b[39mwith\u001b[39;00m \u001b[39mopen\u001b[39m(\u001b[39m\"\u001b[39m\u001b[39mrepos.json\u001b[39m\u001b[39m\"\u001b[39m, \u001b[39m\"\u001b[39m\u001b[39mw\u001b[39m\u001b[39m\"\u001b[39m) \u001b[39mas\u001b[39;00m file:\n\u001b[1;32m     <a href='vscode-notebook-cell://wsl%2Bubuntu/home/dpaul/prompt-linter/data/repos.ipynb#W2sdnNjb2RlLXJlbW90ZQ%3D%3D?line=55'>56</a>\u001b[0m     json\u001b[39m.\u001b[39mdump(res, file, indent\u001b[39m=\u001b[39m\u001b[39m4\u001b[39m)\n",
      "\u001b[1;32m/home/dpaul/prompt-linter/data/repos.ipynb Cell 3\u001b[0m line \u001b[0;36m3\n\u001b[1;32m     <a href='vscode-notebook-cell://wsl%2Bubuntu/home/dpaul/prompt-linter/data/repos.ipynb#W2sdnNjb2RlLXJlbW90ZQ%3D%3D?line=33'>34</a>\u001b[0m \u001b[39m# Check if the request was successful\u001b[39;00m\n\u001b[1;32m     <a href='vscode-notebook-cell://wsl%2Bubuntu/home/dpaul/prompt-linter/data/repos.ipynb#W2sdnNjb2RlLXJlbW90ZQ%3D%3D?line=34'>35</a>\u001b[0m \u001b[39mif\u001b[39;00m response\u001b[39m.\u001b[39mstatus_code \u001b[39m!=\u001b[39m \u001b[39m200\u001b[39m:\n\u001b[0;32m---> <a href='vscode-notebook-cell://wsl%2Bubuntu/home/dpaul/prompt-linter/data/repos.ipynb#W2sdnNjb2RlLXJlbW90ZQ%3D%3D?line=35'>36</a>\u001b[0m     \u001b[39mraise\u001b[39;00m \u001b[39mException\u001b[39;00m(data\u001b[39m.\u001b[39mget(\u001b[39m\"\u001b[39m\u001b[39mmessage\u001b[39m\u001b[39m\"\u001b[39m, \u001b[39m\"\u001b[39m\u001b[39mUnknown error\u001b[39m\u001b[39m\"\u001b[39m))\n\u001b[1;32m     <a href='vscode-notebook-cell://wsl%2Bubuntu/home/dpaul/prompt-linter/data/repos.ipynb#W2sdnNjb2RlLXJlbW90ZQ%3D%3D?line=37'>38</a>\u001b[0m \u001b[39m# Check if the API returned an error\u001b[39;00m\n\u001b[1;32m     <a href='vscode-notebook-cell://wsl%2Bubuntu/home/dpaul/prompt-linter/data/repos.ipynb#W2sdnNjb2RlLXJlbW90ZQ%3D%3D?line=38'>39</a>\u001b[0m \u001b[39mif\u001b[39;00m \u001b[39m\"\u001b[39m\u001b[39mmessage\u001b[39m\u001b[39m\"\u001b[39m \u001b[39min\u001b[39;00m data:\n",
      "\u001b[0;31mException\u001b[0m: API rate limit exceeded for 50.93.222.44. (But here's the good news: Authenticated requests get a higher rate limit. Check out the documentation for more details.)"
     ]
    }
   ],
   "source": [
    "import requests, json\n",
    "from pprint import pprint\n",
    "\n",
    "def fetch_data(query=\"langchain+OR+GUIDANCE+OR+LlamaIndex\", sort=\"stars\", order=\"asc\", per_page=100, language=\"python\"):\n",
    "    \"\"\"\n",
    "    # GitHub API URL for searching repositories\n",
    "    # DOCS: https://docs.github.com/en/rest/search/search?apiVersion=2022-11-28#search-repositories\n",
    "\n",
    "    # Params Default\n",
    "    query = \"langchain+OR+GUIDANCE+OR+LlamaIndex\"\n",
    "    sort = \"stars\"\n",
    "    order = \"asc\"\n",
    "    per_page = 100  # Max 100\n",
    "    language = \"python\"\n",
    "\n",
    "    Returns a results dict with the following structure:\n",
    "    {\n",
    "        total_count: int,\n",
    "        items: [{repo1_info}, {repo2_info}, ...]\n",
    "    }\n",
    "    \"\"\"\n",
    "    # Setting up result dict and file\n",
    "    result = {\"total_count\": 0, \"items\": []}\n",
    "    \n",
    "    # NOTE: Only the first 1000 search results are available through this API\n",
    "    print(\"Fetching all 10 pages (assuming there're >= 1000 results)\")\n",
    "    for page in range(1, 11):\n",
    "        url = f\"https://api.github.com/search/repositories?q={query}+language:{language}&sort={sort}&order={order}&per_page={per_page}&page={page}\"\n",
    "        # Make the API request and get the JSON response\n",
    "        response = requests.get(url)\n",
    "        data = response.json()\n",
    "\n",
    "        # Check if the request was successful\n",
    "        if response.status_code != 200:\n",
    "            raise Exception(data.get(\"message\", \"Unknown error\"))\n",
    "\n",
    "        # Check if the API returned an error\n",
    "        if \"message\" in data:\n",
    "            raise Exception(data[\"message\"])\n",
    "        \n",
    "        # Add the results to the result list and file\n",
    "        result[\"items\"].extend(data[\"items\"])\n",
    "        print(f\"Page {page} done\")\n",
    "\n",
    "        # TODO: Remove Later ######################\n",
    "        # TESTING\n",
    "        print(url)\n",
    "        break\n",
    "        ###########################################\n",
    "\n",
    "    # Add the total count to the result\n",
    "    result[\"total_count\"] = data[\"total_count\"]\n",
    "\n",
    "    return result\n",
    "\n",
    "# WARNING:  AVOID EXCEEDING THE API rate limit. \n",
    "# STORING RESULT\n",
    "##################################################\n",
    "# res = fetch_data()\n",
    "# with open(\"repos.json\", \"w\") as file:\n",
    "#     json.dump(res, file, indent=4)\n",
    "#     pprint(result)"
   ]
  },
  {
   "cell_type": "markdown",
   "metadata": {},
   "source": [
    "### 🔎 Find Prompts"
   ]
  },
  {
   "cell_type": "code",
   "execution_count": null,
   "metadata": {},
   "outputs": [],
   "source": []
  },
  {
   "cell_type": "markdown",
   "metadata": {},
   "source": [
    "✅ Check the prompts using SSLIM"
   ]
  },
  {
   "cell_type": "code",
   "execution_count": null,
   "metadata": {},
   "outputs": [],
   "source": []
  }
 ],
 "metadata": {
  "kernelspec": {
   "display_name": "Python 3 (ipykernel)",
   "language": "python",
   "name": "python3"
  },
  "language_info": {
   "codemirror_mode": {
    "name": "ipython",
    "version": 3
   },
   "file_extension": ".py",
   "mimetype": "text/x-python",
   "name": "python",
   "nbconvert_exporter": "python",
   "pygments_lexer": "ipython3",
   "version": "3.10.12"
  }
 },
 "nbformat": 4,
 "nbformat_minor": 5
}
